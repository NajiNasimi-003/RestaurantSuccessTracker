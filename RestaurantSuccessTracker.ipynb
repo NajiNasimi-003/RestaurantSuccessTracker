{
  "nbformat": 4,
  "nbformat_minor": 0,
  "metadata": {
    "colab": {
      "name": "Untitled0.ipynb",
      "provenance": [],
      "machine_shape": "hm",
      "include_colab_link": true
    },
    "kernelspec": {
      "name": "python3",
      "display_name": "Python 3"
    },
    "language_info": {
      "name": "python"
    }
  },
  "cells": [
    {
      "cell_type": "markdown",
      "metadata": {
        "id": "view-in-github",
        "colab_type": "text"
      },
      "source": [
        "<a href=\"https://colab.research.google.com/github/NajiNasimi-003/RestaurantSuccessTracker/blob/dataSetUpload/RestaurantSuccessTracker.ipynb\" target=\"_parent\"><img src=\"https://colab.research.google.com/assets/colab-badge.svg\" alt=\"Open In Colab\"/></a>"
      ]
    },
    {
      "cell_type": "markdown",
      "metadata": {
        "id": "qBV7_IuBQptK"
      },
      "source": [
        "The naming for this file is not showing correctly in Colab, however, it is correct on Github."
      ]
    },
    {
      "cell_type": "code",
      "metadata": {
        "id": "RkhD222v-WUI"
      },
      "source": [
        "# for _ in iter(int, 1):\n",
        "#     pass\n",
        "# run the above code if you want to keep GC running without idle"
      ],
      "execution_count": null,
      "outputs": []
    },
    {
      "cell_type": "code",
      "metadata": {
        "id": "ZeaAuTkW0t3-"
      },
      "source": [
        "# Business.json - Contains business data about location, categories and their ratings.\n",
        "\n",
        "# Review.json - Contains reviews written by users for a particular business, ratings and their votes.\n",
        "\n",
        "# User.json - Contains users attributes such as their name, number of reviews given, date since they are yelping and number of votes received.\n",
        "\n",
        "# Checkin.json - Contains business timings and number of people come in that timing.\n",
        "\n",
        "# Tip.json - Contains shorter reviews and its attributes to convey information quickly about a particular business.\n",
        "\n",
        "# Photos.json - Contains photo, business id, caption of the photo and category it belongs to.\n",
        "\n",
        "# covid.json - Condatins "
      ],
      "execution_count": 2,
      "outputs": []
    },
    {
      "cell_type": "code",
      "metadata": {
        "id": "Pc89FeN3fy0M"
      },
      "source": [
        "# # uploading documents\n",
        "# import json\n",
        "# from google.colab import files\n",
        "# uploaded = files.upload()\n",
        "# # choose all the json files"
      ],
      "execution_count": null,
      "outputs": []
    },
    {
      "cell_type": "code",
      "metadata": {
        "id": "cQxpJ-rJx8Iv"
      },
      "source": [
        "#loading EDA pkgs\n",
        "import pandas as pd\n",
        "import numpy as np"
      ],
      "execution_count": 3,
      "outputs": []
    },
    {
      "cell_type": "code",
      "metadata": {
        "id": "9Jv4suN1yzAf"
      },
      "source": [
        "#loading Data Visualization Pkgs\n",
        "import matplotlib.pyplot as plt\n",
        "import seaborn as sns"
      ],
      "execution_count": 4,
      "outputs": []
    },
    {
      "cell_type": "code",
      "metadata": {
        "id": "o7JdpKQj7Mpw"
      },
      "source": [
        "businessJson = '/content/yelp_academic_dataset_business.json'\n",
        "businessDF = pd.read_json(businessJson, lines = True)"
      ],
      "execution_count": 9,
      "outputs": []
    },
    {
      "cell_type": "code",
      "metadata": {
        "id": "0DG3-0Wa8S4x",
        "outputId": "3a684a30-f570-4b10-9827-45936b996038",
        "colab": {
          "base_uri": "https://localhost:8080/",
          "height": 530
        }
      },
      "source": [
        "businessDF.head()"
      ],
      "execution_count": 12,
      "outputs": [
        {
          "output_type": "execute_result",
          "data": {
            "text/html": [
              "<div>\n",
              "<style scoped>\n",
              "    .dataframe tbody tr th:only-of-type {\n",
              "        vertical-align: middle;\n",
              "    }\n",
              "\n",
              "    .dataframe tbody tr th {\n",
              "        vertical-align: top;\n",
              "    }\n",
              "\n",
              "    .dataframe thead th {\n",
              "        text-align: right;\n",
              "    }\n",
              "</style>\n",
              "<table border=\"1\" class=\"dataframe\">\n",
              "  <thead>\n",
              "    <tr style=\"text-align: right;\">\n",
              "      <th></th>\n",
              "      <th>business_id</th>\n",
              "      <th>name</th>\n",
              "      <th>address</th>\n",
              "      <th>city</th>\n",
              "      <th>state</th>\n",
              "      <th>postal_code</th>\n",
              "      <th>latitude</th>\n",
              "      <th>longitude</th>\n",
              "      <th>stars</th>\n",
              "      <th>review_count</th>\n",
              "      <th>is_open</th>\n",
              "      <th>attributes</th>\n",
              "      <th>categories</th>\n",
              "      <th>hours</th>\n",
              "    </tr>\n",
              "  </thead>\n",
              "  <tbody>\n",
              "    <tr>\n",
              "      <th>0</th>\n",
              "      <td>6iYb2HFDywm3zjuRg0shjw</td>\n",
              "      <td>Oskar Blues Taproom</td>\n",
              "      <td>921 Pearl St</td>\n",
              "      <td>Boulder</td>\n",
              "      <td>CO</td>\n",
              "      <td>80302</td>\n",
              "      <td>40.017544</td>\n",
              "      <td>-105.283348</td>\n",
              "      <td>4.0</td>\n",
              "      <td>86</td>\n",
              "      <td>1</td>\n",
              "      <td>{'RestaurantsTableService': 'True', 'WiFi': 'u...</td>\n",
              "      <td>Gastropubs, Food, Beer Gardens, Restaurants, B...</td>\n",
              "      <td>{'Monday': '11:0-23:0', 'Tuesday': '11:0-23:0'...</td>\n",
              "    </tr>\n",
              "    <tr>\n",
              "      <th>1</th>\n",
              "      <td>tCbdrRPZA0oiIYSmHG3J0w</td>\n",
              "      <td>Flying Elephants at PDX</td>\n",
              "      <td>7000 NE Airport Way</td>\n",
              "      <td>Portland</td>\n",
              "      <td>OR</td>\n",
              "      <td>97218</td>\n",
              "      <td>45.588906</td>\n",
              "      <td>-122.593331</td>\n",
              "      <td>4.0</td>\n",
              "      <td>126</td>\n",
              "      <td>1</td>\n",
              "      <td>{'RestaurantsTakeOut': 'True', 'RestaurantsAtt...</td>\n",
              "      <td>Salad, Soup, Sandwiches, Delis, Restaurants, C...</td>\n",
              "      <td>{'Monday': '5:0-18:0', 'Tuesday': '5:0-17:0', ...</td>\n",
              "    </tr>\n",
              "    <tr>\n",
              "      <th>2</th>\n",
              "      <td>bvN78flM8NLprQ1a1y5dRg</td>\n",
              "      <td>The Reclaimory</td>\n",
              "      <td>4720 Hawthorne Ave</td>\n",
              "      <td>Portland</td>\n",
              "      <td>OR</td>\n",
              "      <td>97214</td>\n",
              "      <td>45.511907</td>\n",
              "      <td>-122.613693</td>\n",
              "      <td>4.5</td>\n",
              "      <td>13</td>\n",
              "      <td>1</td>\n",
              "      <td>{'BusinessAcceptsCreditCards': 'True', 'Restau...</td>\n",
              "      <td>Antiques, Fashion, Used, Vintage &amp; Consignment...</td>\n",
              "      <td>{'Thursday': '11:0-18:0', 'Friday': '11:0-18:0...</td>\n",
              "    </tr>\n",
              "    <tr>\n",
              "      <th>3</th>\n",
              "      <td>oaepsyvc0J17qwi8cfrOWg</td>\n",
              "      <td>Great Clips</td>\n",
              "      <td>2566 Enterprise Rd</td>\n",
              "      <td>Orange City</td>\n",
              "      <td>FL</td>\n",
              "      <td>32763</td>\n",
              "      <td>28.914482</td>\n",
              "      <td>-81.295979</td>\n",
              "      <td>3.0</td>\n",
              "      <td>8</td>\n",
              "      <td>1</td>\n",
              "      <td>{'RestaurantsPriceRange2': '1', 'BusinessAccep...</td>\n",
              "      <td>Beauty &amp; Spas, Hair Salons</td>\n",
              "      <td>None</td>\n",
              "    </tr>\n",
              "    <tr>\n",
              "      <th>4</th>\n",
              "      <td>PE9uqAjdw0E4-8mjGl3wVA</td>\n",
              "      <td>Crossfit Terminus</td>\n",
              "      <td>1046 Memorial Dr SE</td>\n",
              "      <td>Atlanta</td>\n",
              "      <td>GA</td>\n",
              "      <td>30316</td>\n",
              "      <td>33.747027</td>\n",
              "      <td>-84.353424</td>\n",
              "      <td>4.0</td>\n",
              "      <td>14</td>\n",
              "      <td>1</td>\n",
              "      <td>{'GoodForKids': 'False', 'BusinessParking': '{...</td>\n",
              "      <td>Gyms, Active Life, Interval Training Gyms, Fit...</td>\n",
              "      <td>{'Monday': '16:0-19:0', 'Tuesday': '16:0-19:0'...</td>\n",
              "    </tr>\n",
              "  </tbody>\n",
              "</table>\n",
              "</div>"
            ],
            "text/plain": [
              "              business_id  ...                                              hours\n",
              "0  6iYb2HFDywm3zjuRg0shjw  ...  {'Monday': '11:0-23:0', 'Tuesday': '11:0-23:0'...\n",
              "1  tCbdrRPZA0oiIYSmHG3J0w  ...  {'Monday': '5:0-18:0', 'Tuesday': '5:0-17:0', ...\n",
              "2  bvN78flM8NLprQ1a1y5dRg  ...  {'Thursday': '11:0-18:0', 'Friday': '11:0-18:0...\n",
              "3  oaepsyvc0J17qwi8cfrOWg  ...                                               None\n",
              "4  PE9uqAjdw0E4-8mjGl3wVA  ...  {'Monday': '16:0-19:0', 'Tuesday': '16:0-19:0'...\n",
              "\n",
              "[5 rows x 14 columns]"
            ]
          },
          "metadata": {},
          "execution_count": 12
        }
      ]
    },
    {
      "cell_type": "code",
      "metadata": {
        "id": "7Fw4F0vY8Vnf"
      },
      "source": [
        "# 1 = open, 0 = closed\n",
        "# Only keeping business that are open\n",
        "businessDF = businessDF[businessDF['is_open']==1]"
      ],
      "execution_count": 14,
      "outputs": []
    },
    {
      "cell_type": "code",
      "metadata": {
        "id": "3JRVKNI088Db"
      },
      "source": [
        "# In case we have to drop columns to clean the data\n",
        "# drop_columns = ['columnName']\n",
        "# dfName = dfName.drop(drop_columns, axis=1)"
      ],
      "execution_count": 15,
      "outputs": []
    },
    {
      "cell_type": "code",
      "metadata": {
        "id": "V58BbHB39HLF"
      },
      "source": [
        "# Pulling only Restaurants\n",
        "businessRestaurants = businessDF[businessDF['categories'].str.contains(\n",
        "              'Restaurants',\n",
        "              case=False, na=False)]"
      ],
      "execution_count": 16,
      "outputs": []
    },
    {
      "cell_type": "code",
      "metadata": {
        "id": "mTiUvswz9vHo",
        "outputId": "a585fafa-780a-4d93-cd3f-4826925ec737",
        "colab": {
          "base_uri": "https://localhost:8080/",
          "height": 564
        }
      },
      "source": [
        "businessRestaurants.head()"
      ],
      "execution_count": 17,
      "outputs": [
        {
          "output_type": "execute_result",
          "data": {
            "text/html": [
              "<div>\n",
              "<style scoped>\n",
              "    .dataframe tbody tr th:only-of-type {\n",
              "        vertical-align: middle;\n",
              "    }\n",
              "\n",
              "    .dataframe tbody tr th {\n",
              "        vertical-align: top;\n",
              "    }\n",
              "\n",
              "    .dataframe thead th {\n",
              "        text-align: right;\n",
              "    }\n",
              "</style>\n",
              "<table border=\"1\" class=\"dataframe\">\n",
              "  <thead>\n",
              "    <tr style=\"text-align: right;\">\n",
              "      <th></th>\n",
              "      <th>business_id</th>\n",
              "      <th>name</th>\n",
              "      <th>address</th>\n",
              "      <th>city</th>\n",
              "      <th>state</th>\n",
              "      <th>postal_code</th>\n",
              "      <th>latitude</th>\n",
              "      <th>longitude</th>\n",
              "      <th>stars</th>\n",
              "      <th>review_count</th>\n",
              "      <th>is_open</th>\n",
              "      <th>attributes</th>\n",
              "      <th>categories</th>\n",
              "      <th>hours</th>\n",
              "    </tr>\n",
              "  </thead>\n",
              "  <tbody>\n",
              "    <tr>\n",
              "      <th>0</th>\n",
              "      <td>6iYb2HFDywm3zjuRg0shjw</td>\n",
              "      <td>Oskar Blues Taproom</td>\n",
              "      <td>921 Pearl St</td>\n",
              "      <td>Boulder</td>\n",
              "      <td>CO</td>\n",
              "      <td>80302</td>\n",
              "      <td>40.017544</td>\n",
              "      <td>-105.283348</td>\n",
              "      <td>4.0</td>\n",
              "      <td>86</td>\n",
              "      <td>1</td>\n",
              "      <td>{'RestaurantsTableService': 'True', 'WiFi': 'u...</td>\n",
              "      <td>Gastropubs, Food, Beer Gardens, Restaurants, B...</td>\n",
              "      <td>{'Monday': '11:0-23:0', 'Tuesday': '11:0-23:0'...</td>\n",
              "    </tr>\n",
              "    <tr>\n",
              "      <th>1</th>\n",
              "      <td>tCbdrRPZA0oiIYSmHG3J0w</td>\n",
              "      <td>Flying Elephants at PDX</td>\n",
              "      <td>7000 NE Airport Way</td>\n",
              "      <td>Portland</td>\n",
              "      <td>OR</td>\n",
              "      <td>97218</td>\n",
              "      <td>45.588906</td>\n",
              "      <td>-122.593331</td>\n",
              "      <td>4.0</td>\n",
              "      <td>126</td>\n",
              "      <td>1</td>\n",
              "      <td>{'RestaurantsTakeOut': 'True', 'RestaurantsAtt...</td>\n",
              "      <td>Salad, Soup, Sandwiches, Delis, Restaurants, C...</td>\n",
              "      <td>{'Monday': '5:0-18:0', 'Tuesday': '5:0-17:0', ...</td>\n",
              "    </tr>\n",
              "    <tr>\n",
              "      <th>5</th>\n",
              "      <td>D4JtQNTI4X3KcbzacDJsMw</td>\n",
              "      <td>Bob Likes Thai Food</td>\n",
              "      <td>3755 Main St</td>\n",
              "      <td>Vancouver</td>\n",
              "      <td>BC</td>\n",
              "      <td>V5V</td>\n",
              "      <td>49.251342</td>\n",
              "      <td>-123.101333</td>\n",
              "      <td>3.5</td>\n",
              "      <td>169</td>\n",
              "      <td>1</td>\n",
              "      <td>{'GoodForKids': 'True', 'Alcohol': 'u'none'', ...</td>\n",
              "      <td>Restaurants, Thai</td>\n",
              "      <td>{'Monday': '17:0-21:0', 'Tuesday': '17:0-21:0'...</td>\n",
              "    </tr>\n",
              "    <tr>\n",
              "      <th>7</th>\n",
              "      <td>jFYIsSb7r1QeESVUnXPHBw</td>\n",
              "      <td>Boxwood Biscuit</td>\n",
              "      <td>740 S High St</td>\n",
              "      <td>Columbus</td>\n",
              "      <td>OH</td>\n",
              "      <td>43206</td>\n",
              "      <td>39.947007</td>\n",
              "      <td>-82.997471</td>\n",
              "      <td>4.5</td>\n",
              "      <td>11</td>\n",
              "      <td>1</td>\n",
              "      <td>None</td>\n",
              "      <td>Breakfast &amp; Brunch, Restaurants</td>\n",
              "      <td>{'Saturday': '8:0-14:0', 'Sunday': '8:0-14:0'}</td>\n",
              "    </tr>\n",
              "    <tr>\n",
              "      <th>12</th>\n",
              "      <td>HPA_qyMEddpAEtFof02ixg</td>\n",
              "      <td>Mr G's Pizza &amp; Subs</td>\n",
              "      <td>474 Lowell St</td>\n",
              "      <td>Peabody</td>\n",
              "      <td>MA</td>\n",
              "      <td>01960</td>\n",
              "      <td>42.541155</td>\n",
              "      <td>-70.973438</td>\n",
              "      <td>4.0</td>\n",
              "      <td>39</td>\n",
              "      <td>1</td>\n",
              "      <td>{'RestaurantsGoodForGroups': 'True', 'HasTV': ...</td>\n",
              "      <td>Food, Pizza, Restaurants</td>\n",
              "      <td>{'Monday': '11:0-21:0', 'Tuesday': '11:0-21:0'...</td>\n",
              "    </tr>\n",
              "  </tbody>\n",
              "</table>\n",
              "</div>"
            ],
            "text/plain": [
              "               business_id  ...                                              hours\n",
              "0   6iYb2HFDywm3zjuRg0shjw  ...  {'Monday': '11:0-23:0', 'Tuesday': '11:0-23:0'...\n",
              "1   tCbdrRPZA0oiIYSmHG3J0w  ...  {'Monday': '5:0-18:0', 'Tuesday': '5:0-17:0', ...\n",
              "5   D4JtQNTI4X3KcbzacDJsMw  ...  {'Monday': '17:0-21:0', 'Tuesday': '17:0-21:0'...\n",
              "7   jFYIsSb7r1QeESVUnXPHBw  ...     {'Saturday': '8:0-14:0', 'Sunday': '8:0-14:0'}\n",
              "12  HPA_qyMEddpAEtFof02ixg  ...  {'Monday': '11:0-21:0', 'Tuesday': '11:0-21:0'...\n",
              "\n",
              "[5 rows x 14 columns]"
            ]
          },
          "metadata": {},
          "execution_count": 17
        }
      ]
    },
    {
      "cell_type": "code",
      "metadata": {
        "id": "K82L8eCs9yYw",
        "outputId": "34f22d52-18c3-4f50-9dc3-edd6534d7169",
        "colab": {
          "base_uri": "https://localhost:8080/",
          "height": 297
        }
      },
      "source": [
        "businessRestaurants.describe()"
      ],
      "execution_count": 18,
      "outputs": [
        {
          "output_type": "execute_result",
          "data": {
            "text/html": [
              "<div>\n",
              "<style scoped>\n",
              "    .dataframe tbody tr th:only-of-type {\n",
              "        vertical-align: middle;\n",
              "    }\n",
              "\n",
              "    .dataframe tbody tr th {\n",
              "        vertical-align: top;\n",
              "    }\n",
              "\n",
              "    .dataframe thead th {\n",
              "        text-align: right;\n",
              "    }\n",
              "</style>\n",
              "<table border=\"1\" class=\"dataframe\">\n",
              "  <thead>\n",
              "    <tr style=\"text-align: right;\">\n",
              "      <th></th>\n",
              "      <th>latitude</th>\n",
              "      <th>longitude</th>\n",
              "      <th>stars</th>\n",
              "      <th>review_count</th>\n",
              "      <th>is_open</th>\n",
              "    </tr>\n",
              "  </thead>\n",
              "  <tbody>\n",
              "    <tr>\n",
              "      <th>count</th>\n",
              "      <td>32022.000000</td>\n",
              "      <td>32022.000000</td>\n",
              "      <td>32022.000000</td>\n",
              "      <td>32022.000000</td>\n",
              "      <td>32022.0</td>\n",
              "    </tr>\n",
              "    <tr>\n",
              "      <th>mean</th>\n",
              "      <td>39.012894</td>\n",
              "      <td>-94.098040</td>\n",
              "      <td>3.549934</td>\n",
              "      <td>130.141434</td>\n",
              "      <td>1.0</td>\n",
              "    </tr>\n",
              "    <tr>\n",
              "      <th>std</th>\n",
              "      <td>7.318811</td>\n",
              "      <td>20.168590</td>\n",
              "      <td>0.805334</td>\n",
              "      <td>237.988258</td>\n",
              "      <td>0.0</td>\n",
              "    </tr>\n",
              "    <tr>\n",
              "      <th>min</th>\n",
              "      <td>28.062985</td>\n",
              "      <td>-123.349961</td>\n",
              "      <td>1.000000</td>\n",
              "      <td>5.000000</td>\n",
              "      <td>1.0</td>\n",
              "    </tr>\n",
              "    <tr>\n",
              "      <th>25%</th>\n",
              "      <td>30.374980</td>\n",
              "      <td>-122.620272</td>\n",
              "      <td>3.000000</td>\n",
              "      <td>20.000000</td>\n",
              "      <td>1.0</td>\n",
              "    </tr>\n",
              "    <tr>\n",
              "      <th>50%</th>\n",
              "      <td>40.248712</td>\n",
              "      <td>-84.332702</td>\n",
              "      <td>3.500000</td>\n",
              "      <td>55.000000</td>\n",
              "      <td>1.0</td>\n",
              "    </tr>\n",
              "    <tr>\n",
              "      <th>75%</th>\n",
              "      <td>45.496005</td>\n",
              "      <td>-81.330495</td>\n",
              "      <td>4.000000</td>\n",
              "      <td>146.000000</td>\n",
              "      <td>1.0</td>\n",
              "    </tr>\n",
              "    <tr>\n",
              "      <th>max</th>\n",
              "      <td>49.459624</td>\n",
              "      <td>71.113271</td>\n",
              "      <td>5.000000</td>\n",
              "      <td>9185.000000</td>\n",
              "      <td>1.0</td>\n",
              "    </tr>\n",
              "  </tbody>\n",
              "</table>\n",
              "</div>"
            ],
            "text/plain": [
              "           latitude     longitude         stars  review_count  is_open\n",
              "count  32022.000000  32022.000000  32022.000000  32022.000000  32022.0\n",
              "mean      39.012894    -94.098040      3.549934    130.141434      1.0\n",
              "std        7.318811     20.168590      0.805334    237.988258      0.0\n",
              "min       28.062985   -123.349961      1.000000      5.000000      1.0\n",
              "25%       30.374980   -122.620272      3.000000     20.000000      1.0\n",
              "50%       40.248712    -84.332702      3.500000     55.000000      1.0\n",
              "75%       45.496005    -81.330495      4.000000    146.000000      1.0\n",
              "max       49.459624     71.113271      5.000000   9185.000000      1.0"
            ]
          },
          "metadata": {},
          "execution_count": 18
        }
      ]
    }
  ]
}